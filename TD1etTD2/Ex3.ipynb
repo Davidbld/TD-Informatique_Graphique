{
 "cells": [
  {
   "cell_type": "markdown",
   "metadata": {},
   "source": [
    "# Seuillage par valeur"
   ]
  },
  {
   "cell_type": "code",
   "execution_count": null,
   "metadata": {},
   "outputs": [],
   "source": [
    "import cv2\n",
    "import numpy as np\n",
    "from matplotlib import pyplot as plt\n",
    "\n",
    "fleur=cv2.imread(\"fleur.png\")"
   ]
  },
  {
   "cell_type": "markdown",
   "metadata": {},
   "source": [
    "## 1. Ecrire une fonction qui segmente une image en niveau de gris par valeur"
   ]
  },
  {
   "cell_type": "code",
   "execution_count": 39,
   "metadata": {},
   "outputs": [],
   "source": [
    "def segmentation (image,seuil):\n",
    "    gray=cv2.cvtColor(image,cv2.COLOR_BGR2GRAY)\n",
    "    ret,imageSegmentee=cv2.threshold(gray,seuil,255,cv2.THRESH_BINARY_INV)\n",
    "    return imageSegmentee\n",
    "\n",
    "imageSegmentee = segmentation(fleur,10)\n",
    "\n",
    "cv2.imshow('image',imageSegmentee)\n",
    "cv2.waitKey(0)\n",
    "cv2.destroyAllWindows()"
   ]
  },
  {
   "cell_type": "markdown",
   "metadata": {},
   "source": [
    "## 2. Affichez le résulat suivant\n",
    "- Sur la permière ligne :\n",
    "  - Une fleur normal / Un fleur inversé / Un fleur normal\n",
    "- Sur la deuxième ligne :\n",
    "  - Une fleur déformé / Une fleur en négatif"
   ]
  },
  {
   "cell_type": "code",
   "execution_count": null,
   "metadata": {},
   "outputs": [
    {
     "ename": "ValueError",
     "evalue": "all the input arrays must have same number of dimensions, but the array at index 0 has 3 dimension(s) and the array at index 1 has 2 dimension(s)",
     "output_type": "error",
     "traceback": [
      "\u001b[1;31m---------------------------------------------------------------------------\u001b[0m",
      "\u001b[1;31mValueError\u001b[0m                                Traceback (most recent call last)",
      "Cell \u001b[1;32mIn[43], line 19\u001b[0m\n\u001b[0;32m     17\u001b[0m \u001b[38;5;66;03m# Affichage des images dans une grille\u001b[39;00m\n\u001b[0;32m     18\u001b[0m fleurCompletHaut \u001b[38;5;241m=\u001b[39m np\u001b[38;5;241m.\u001b[39mconcatenate((fleur, imgRetourneR, fleur), axis\u001b[38;5;241m=\u001b[39m\u001b[38;5;241m1\u001b[39m)\n\u001b[1;32m---> 19\u001b[0m fleurCompletBas \u001b[38;5;241m=\u001b[39m \u001b[43mnp\u001b[49m\u001b[38;5;241;43m.\u001b[39;49m\u001b[43mconcatenate\u001b[49m\u001b[43m(\u001b[49m\u001b[43m(\u001b[49m\u001b[43mfleur\u001b[49m\u001b[43m,\u001b[49m\u001b[43mimageSegmentee\u001b[49m\u001b[43m)\u001b[49m\u001b[43m,\u001b[49m\u001b[43m \u001b[49m\u001b[43maxis\u001b[49m\u001b[38;5;241;43m=\u001b[39;49m\u001b[38;5;241;43m1\u001b[39;49m\u001b[43m)\u001b[49m\n\u001b[0;32m     20\u001b[0m displayGridFull \u001b[38;5;241m=\u001b[39m np\u001b[38;5;241m.\u001b[39mconcatenate((fleurCompletHaut,fleurCompletBas), axis\u001b[38;5;241m=\u001b[39m\u001b[38;5;241m0\u001b[39m)\n\u001b[0;32m     22\u001b[0m cv2\u001b[38;5;241m.\u001b[39mimshow(\u001b[38;5;124m'\u001b[39m\u001b[38;5;124mGrid\u001b[39m\u001b[38;5;124m'\u001b[39m, displayGridFull)\n",
      "\u001b[1;31mValueError\u001b[0m: all the input arrays must have same number of dimensions, but the array at index 0 has 3 dimension(s) and the array at index 1 has 2 dimension(s)"
     ]
    }
   ],
   "source": [
    "hauteur, largeur = 360, 360\n",
    "\n",
    "# Chargement et redimensionnement des images à la même taille\n",
    "imgRetourneR = cv2.flip(fleur,0)\n",
    "\n",
    "# Image Noire\n",
    "imgNoirePetite = np.zeros([180,180,3], np.uint8)\n",
    "imgNoireGrande = np.zeros([360,360,3], np.uint8)\n",
    "\n",
    "# Affichage des images dans une grille\n",
    "fleurCompletHaut = np.concatenate((fleur, imgRetourneR, fleur), axis=1)\n",
    "fleurCompletBas = np.concatenate((fleur,imageSegmentee), axis=1)\n",
    "displayGridFull = np.concatenate((fleurCompletHaut,fleurCompletBas), axis=0)\n",
    "\n",
    "cv2.imshow('Grid', displayGridFull)\n",
    "cv2.waitKey(0)\n",
    "cv2.destroyAllWindows()"
   ]
  }
 ],
 "metadata": {
  "kernelspec": {
   "display_name": "Python 3",
   "language": "python",
   "name": "python3"
  },
  "language_info": {
   "codemirror_mode": {
    "name": "ipython",
    "version": 3
   },
   "file_extension": ".py",
   "mimetype": "text/x-python",
   "name": "python",
   "nbconvert_exporter": "python",
   "pygments_lexer": "ipython3",
   "version": "3.12.7"
  }
 },
 "nbformat": 4,
 "nbformat_minor": 2
}
